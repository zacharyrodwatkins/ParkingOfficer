{
 "cells": [
  {
   "cell_type": "code",
   "execution_count": null,
   "metadata": {},
   "outputs": [],
   "source": [
    "import matplotlib.pyplot as plt\n",
    "import cv2 as cv\n",
    "import numpy as np\n",
    "import keras\n",
    "from keras import layers\n",
    "from keras import models\n",
    "from keras import optimizers\n",
    "\n",
    "from keras.utils import plot_model\n",
    "from keras import backend\n",
    "import os\n",
    "from sklearn.model_selection import train_test_split\n",
    "from sklearn.preprocessing import LabelEncoder\n",
    "from keras.utils.np_utils import to_categorical  \n",
    "\n",
    "\n",
    "from scipy import ndimage\n",
    "from random import randint\n",
    "\n",
    "\n",
    "numbpath = \"plate/trainimg/numbers/\"\n",
    "letterpath = \"plate/trainimg/letters/\"\n",
    "\n",
    "num_files = os.listdir(numbpath)\n",
    "let_files = os.listdir(letterpath)\n",
    "\n",
    "cut_max = (130,255,255)\n",
    "cut_min=(100, 150,45)\n",
    "\n",
    "nLabels = [F[0] for F in num_files]\n",
    "lLabels = [F[0] for F in let_files]\n",
    "\n",
    "Labels = nLabels + lLabels\n",
    "\n",
    "enc = LabelEncoder()\n",
    "enc.fit(Labels)\n",
    "\n",
    "numClasses = enc.transform(nLabels)\n",
    "letClasses = enc.transform(lLabels)\n",
    "Classes = enc.transform(Labels)\n",
    "\n",
    "def cut_and_blur(img):\n",
    "    hsv = cv.cvtColor(img, cv.COLOR_BGR2HSV)\n",
    "    cut = cv.inRange(hsv, cut_min,cut_max)\n",
    "    return ndimage.uniform_filter(cut, size=randint(7,17))\n",
    "\n",
    "#Classes = to_categorical(Classes, num_classes = 36)\n",
    "\n",
    "numbFrames = [np.array(cv.imread(numbpath + F)) for F in num_files]\n",
    "letFrames = [np.array(cv.imread(letterpath + F)) for F in let_files]\n",
    "\n",
    "Frames = numbFrames + letFrames\n",
    "#print(Frames)\n",
    "#Frames = [np.delete(x, range(100,110), 1) for x in Frames]\n",
    "letFrames = [np.reshape(cv.resize(cut_and_blur(x), (64,64)), (64,64,1)) for x in letFrames]\n",
    "letFrames = np.stack(letFrames).astype(float)/255\n",
    "numbFrames = [np.reshape(cv.resize(cut_and_blur(x), (64,64)), (64,64,1)) for x in numbFrames]\n",
    "numbFrames = np.stack(numbFrames).astype(float)/255\n",
    "Frames = [np.reshape(cv.resize(cut_and_blur(x), (64,64)), (64,64,1)) for x in Frames]\n",
    "Frames = np.stack(Frames).astype(float)/255\n",
    "\n",
    "print(Frames.shape)\n",
    "#Frames = Frames.reshape(Frames.shape[1]*Frames.shape[2]*Frames.shape[3], Frames.shape[0]).T\n",
    "print(letFrames.shape)\n",
    "\n",
    "xtrainL, xtestL, ytrainL, ytestL = train_test_split(letFrames, letClasses, test_size = 0.1)\n",
    "xtrainL, xtestN, ytrainN, ytestN = train_test_split(numbFrames, numClasses, test_size = 0.1)\n",
    "xtrain, xtest, ytrain, ytest  = train_test_split(Frames, Classes, test_size = 0.1)"
   ]
  },
  {
   "cell_type": "code",
   "execution_count": null,
   "metadata": {},
   "outputs": [],
   "source": [
    "# model = models.Sequential()\n",
    "# model.add(layers.Conv2D(64, (3, 3), input_shape = (128,128,3), activation='relu',))\n",
    "# model.add(layers.MaxPooling2D((2, 2)))\n",
    "# model.add(layers.Conv2D(128, (3, 3), activation='relu'))\n",
    "# model.add(layers.MaxPooling2D((2, 2)))\n",
    "# model.add(lay ers.MaxPooling2D((2, 2)))\n",
    "# model.add(layers.Flatten())\n",
    "# model.add(layers.Dropout(0.5))\n",
    "# model.add(layers.Dense(512, activation='relu'))\n",
    "# model.add(layers.Dense(128, activation = 'relu'))\n",
    "# model.add(layers.Dense(36, activation='softmax'))\n",
    "\n",
    "model = models.Sequential()\n",
    "model.add(layers.Conv2D(32, (3, 3), activation='relu', input_shape=(64,64, 1)))\n",
    "model.add(layers.MaxPooling2D((2, 2)))\n",
    "model.add(layers.Conv2D(64, (3, 3), activation='relu'))\n",
    "model.add(layers.MaxPooling2D((2, 2)))\n",
    "model.add(layers.Conv2D(128, (3, 3), activation='relu'))\n",
    "model.add(layers.MaxPooling2D((2, 2)))\n",
    "model.add(layers.Conv2D(128, (3, 3), activation='relu'))\n",
    "model.add(layers.MaxPooling2D((2, 2)))\n",
    "#model.add(layers.Dropout(0.5))\n",
    "model.add(layers.Flatten())\n",
    "#model.add(layers.Dropout(0.5))\n",
    "model.add(layers.Dense(512, activation='relu'))\n",
    "model.add(layers.Dropout(0.5))\n",
    "model.add(layers.Dense(36, activation='softmax'))\n",
    "\n",
    "adam = optimizers.adam(lr= 1e-3)\n",
    "\n",
    "#train the model\n",
    "model.compile(optimizer=adam,\n",
    "             loss='categorical_crossentropy',\n",
    "             metrics=['accuracy'])\n",
    "\n",
    "model.fit(xtrainL, ytrainL,\n",
    "         epochs=35,\n",
    "         verbose=1)"
   ]
  },
  {
   "cell_type": "code",
   "execution_count": null,
   "metadata": {},
   "outputs": [],
   "source": [
    "pred = model.predict(xtest)\n",
    "pred = enc.inverse_transform([np.argmax(x) for x in pred])"
   ]
  },
  {
   "cell_type": "code",
   "execution_count": null,
   "metadata": {},
   "outputs": [],
   "source": [
    "testlabels = enc.inverse_transform(ytest)\n",
    "i = 0\n",
    "for fr in xtest:\n",
    "    plt.imshow(fr[:,:,0])\n",
    "    title = pred[i]\n",
    "    plt.title(title)\n",
    "    plt.show() #enc.inverse_transform([pred[i]])+ \" \" + enc.inverse_transform([ytest[i]]))\n",
    "    i += 1"
   ]
  },
  {
   "cell_type": "code",
   "execution_count": null,
   "metadata": {},
   "outputs": [],
   "source": [
    "import joblib\n",
    "import pickle \n",
    "#joblib.dump(model, \"cnn.jb\")\n",
    "with open('cnn.pkl', 'wb') as f:\n",
    "    pickle.dump(model,f)\n",
    "#joblib.dump(enc, \"encoder.jb\")\n"
   ]
  },
  {
   "cell_type": "code",
   "execution_count": null,
   "metadata": {},
   "outputs": [],
   "source": [
    "#model.save('blurredmodel_all.h5')"
   ]
  },
  {
   "cell_type": "code",
   "execution_count": null,
   "metadata": {},
   "outputs": [],
   "source": [
    "out = clf.predict(model.predict(xtest))"
   ]
  },
  {
   "cell_type": "code",
   "execution_count": null,
   "metadata": {},
   "outputs": [],
   "source": [
    "print(xtrain.shape[1:]+ (1,))"
   ]
  },
  {
   "cell_type": "code",
   "execution_count": null,
   "metadata": {},
   "outputs": [],
   "source": [
    "model.fit(xtrain, ytrain,\n",
    "         epochs=25,\n",
    "         verbose=1)"
   ]
  }
 ],
 "metadata": {
  "kernelspec": {
   "display_name": "Python 2",
   "language": "python",
   "name": "python2"
  },
  "language_info": {
   "codemirror_mode": {
    "name": "ipython",
    "version": 2
   },
   "file_extension": ".py",
   "mimetype": "text/x-python",
   "name": "python",
   "nbconvert_exporter": "python",
   "pygments_lexer": "ipython2",
   "version": "2.7.15+"
  }
 },
 "nbformat": 4,
 "nbformat_minor": 2
}
